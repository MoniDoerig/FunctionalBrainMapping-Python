{
 "cells": [
  {
   "cell_type": "markdown",
   "metadata": {},
   "source": [
    "Author: Monika Dörig, monika.doerig@balgrist.ch\n",
    "\n",
    "__Integrative Spinal Research, Department of Chiropractic Medicine, Balgrist University Hospital, University of Zurich, Zurich, Switzerland__\n",
    "\n",
    "__Lucerne University of Applied Sciences and Arts, Horw__"
   ]
  },
  {
   "cell_type": "markdown",
   "metadata": {},
   "source": [
    "# Create Model Representational Dissimilarity Matrices "
   ]
  },
  {
   "cell_type": "code",
   "execution_count": 1,
   "metadata": {
    "tags": []
   },
   "outputs": [],
   "source": [
    "import numpy as np\n",
    "import matplotlib.pyplot as plt\n",
    "import pandas as pd\n",
    "from nilearn import plotting\n",
    "import rsatoolbox as rsa\n",
    "from rsatoolbox.model import ModelFixed\n",
    "from rsatoolbox.rdm import RDMs"
   ]
  },
  {
   "cell_type": "code",
   "execution_count": 2,
   "metadata": {
    "tags": []
   },
   "outputs": [],
   "source": [
    "def upper_tri(RDM):\n",
    "    \"\"\"upper_tri returns the upper triangular index of an RDM\n",
    "    \n",
    "    Args:\n",
    "        RDM 2Darray: squareform RDM\n",
    "    \n",
    "    Returns:\n",
    "        1D array: upper triangular vector of the RDM\n",
    "    \"\"\"\n",
    "    # returns the upper triangle\n",
    "    m = RDM.shape[0]\n",
    "    r, c = np.triu_indices(m, 1)\n",
    "    return RDM[r, c]"
   ]
  },
  {
   "cell_type": "code",
   "execution_count": 3,
   "metadata": {
    "tags": []
   },
   "outputs": [],
   "source": [
    "import matplotlib.colors\n",
    "def RDMcolormapObject(direction=1):\n",
    "    \"\"\"\n",
    "    Returns a matplotlib color map object for RSA and brain plotting\n",
    "    \"\"\"\n",
    "    if direction == 0:\n",
    "        cs = ['yellow', 'red', 'gray', 'turquoise', 'blue']\n",
    "    elif direction == 1:\n",
    "        cs = ['blue', 'turquoise', 'gray', 'red', 'yellow']\n",
    "    else:\n",
    "        raise ValueError('Direction needs to be 0 or 1')\n",
    "    cmap = matplotlib.colors.LinearSegmentedColormap.from_list(\"\", cs)\n",
    "    return cmap"
   ]
  },
  {
   "cell_type": "markdown",
   "metadata": {},
   "source": [
    "### Simple Model"
   ]
  },
  {
   "cell_type": "code",
   "execution_count": 4,
   "metadata": {
    "tags": []
   },
   "outputs": [
    {
     "data": {
      "text/html": [
       "<div>\n",
       "<style scoped>\n",
       "    .dataframe tbody tr th:only-of-type {\n",
       "        vertical-align: middle;\n",
       "    }\n",
       "\n",
       "    .dataframe tbody tr th {\n",
       "        vertical-align: top;\n",
       "    }\n",
       "\n",
       "    .dataframe thead th {\n",
       "        text-align: right;\n",
       "    }\n",
       "</style>\n",
       "<table border=\"1\" class=\"dataframe\">\n",
       "  <thead>\n",
       "    <tr style=\"text-align: right;\">\n",
       "      <th></th>\n",
       "      <th>T3</th>\n",
       "      <th>T5</th>\n",
       "      <th>T7</th>\n",
       "      <th>T9</th>\n",
       "      <th>T11</th>\n",
       "      <th>L1</th>\n",
       "      <th>L3</th>\n",
       "      <th>L5</th>\n",
       "      <th>S1</th>\n",
       "    </tr>\n",
       "  </thead>\n",
       "  <tbody>\n",
       "    <tr>\n",
       "      <th>T3</th>\n",
       "      <td>0</td>\n",
       "      <td>0</td>\n",
       "      <td>0</td>\n",
       "      <td>0</td>\n",
       "      <td>0</td>\n",
       "      <td>1</td>\n",
       "      <td>1</td>\n",
       "      <td>1</td>\n",
       "      <td>1</td>\n",
       "    </tr>\n",
       "    <tr>\n",
       "      <th>T5</th>\n",
       "      <td>0</td>\n",
       "      <td>0</td>\n",
       "      <td>0</td>\n",
       "      <td>0</td>\n",
       "      <td>0</td>\n",
       "      <td>1</td>\n",
       "      <td>1</td>\n",
       "      <td>1</td>\n",
       "      <td>1</td>\n",
       "    </tr>\n",
       "    <tr>\n",
       "      <th>T7</th>\n",
       "      <td>0</td>\n",
       "      <td>0</td>\n",
       "      <td>0</td>\n",
       "      <td>0</td>\n",
       "      <td>0</td>\n",
       "      <td>1</td>\n",
       "      <td>1</td>\n",
       "      <td>1</td>\n",
       "      <td>1</td>\n",
       "    </tr>\n",
       "    <tr>\n",
       "      <th>T9</th>\n",
       "      <td>0</td>\n",
       "      <td>0</td>\n",
       "      <td>0</td>\n",
       "      <td>0</td>\n",
       "      <td>0</td>\n",
       "      <td>1</td>\n",
       "      <td>1</td>\n",
       "      <td>1</td>\n",
       "      <td>1</td>\n",
       "    </tr>\n",
       "    <tr>\n",
       "      <th>T11</th>\n",
       "      <td>0</td>\n",
       "      <td>0</td>\n",
       "      <td>0</td>\n",
       "      <td>0</td>\n",
       "      <td>0</td>\n",
       "      <td>1</td>\n",
       "      <td>1</td>\n",
       "      <td>1</td>\n",
       "      <td>1</td>\n",
       "    </tr>\n",
       "    <tr>\n",
       "      <th>L1</th>\n",
       "      <td>1</td>\n",
       "      <td>1</td>\n",
       "      <td>1</td>\n",
       "      <td>1</td>\n",
       "      <td>1</td>\n",
       "      <td>0</td>\n",
       "      <td>0</td>\n",
       "      <td>0</td>\n",
       "      <td>0</td>\n",
       "    </tr>\n",
       "    <tr>\n",
       "      <th>L3</th>\n",
       "      <td>1</td>\n",
       "      <td>1</td>\n",
       "      <td>1</td>\n",
       "      <td>1</td>\n",
       "      <td>1</td>\n",
       "      <td>0</td>\n",
       "      <td>0</td>\n",
       "      <td>0</td>\n",
       "      <td>0</td>\n",
       "    </tr>\n",
       "    <tr>\n",
       "      <th>L5</th>\n",
       "      <td>1</td>\n",
       "      <td>1</td>\n",
       "      <td>1</td>\n",
       "      <td>1</td>\n",
       "      <td>1</td>\n",
       "      <td>0</td>\n",
       "      <td>0</td>\n",
       "      <td>0</td>\n",
       "      <td>0</td>\n",
       "    </tr>\n",
       "    <tr>\n",
       "      <th>S1</th>\n",
       "      <td>1</td>\n",
       "      <td>1</td>\n",
       "      <td>1</td>\n",
       "      <td>1</td>\n",
       "      <td>1</td>\n",
       "      <td>0</td>\n",
       "      <td>0</td>\n",
       "      <td>0</td>\n",
       "      <td>0</td>\n",
       "    </tr>\n",
       "  </tbody>\n",
       "</table>\n",
       "</div>"
      ],
      "text/plain": [
       "     T3  T5  T7  T9  T11  L1  L3  L5  S1\n",
       "T3    0   0   0   0    0   1   1   1   1\n",
       "T5    0   0   0   0    0   1   1   1   1\n",
       "T7    0   0   0   0    0   1   1   1   1\n",
       "T9    0   0   0   0    0   1   1   1   1\n",
       "T11   0   0   0   0    0   1   1   1   1\n",
       "L1    1   1   1   1    1   0   0   0   0\n",
       "L3    1   1   1   1    1   0   0   0   0\n",
       "L5    1   1   1   1    1   0   0   0   0\n",
       "S1    1   1   1   1    1   0   0   0   0"
      ]
     },
     "execution_count": 4,
     "metadata": {},
     "output_type": "execute_result"
    }
   ],
   "source": [
    "d = {'T3': [0,0,0,0,0,1,1,1,1], 'T5': [0,0,0,0,0,1,1,1,1], 'T7': [0,0,0,0,0,1,1,1,1], 'T9': [0,0,0,0,0,1,1,1,1],\n",
    "     'T11': [0,0,0,0,0,1,1,1,1], 'L1': [1,1,1,1,1,0,0,0,0], 'L3': [1,1,1,1,1,0,0,0,0] , 'L5': [1,1,1,1,1,0,0,0,0],\n",
    "     'S1': [1,1,1,1,1,0,0,0,0]\n",
    "    }\n",
    "\n",
    "df = pd.DataFrame(data=d, index = ['T3', 'T5', 'T7', 'T9', 'T11', 'L1', 'L3', 'L5', 'S1'])\n",
    "df.head(9)"
   ]
  },
  {
   "cell_type": "code",
   "execution_count": 5,
   "metadata": {
    "tags": []
   },
   "outputs": [],
   "source": [
    "df_simple_np = df.to_numpy()\n",
    "np.save('simple_model.npy', df_simple_np)"
   ]
  },
  {
   "cell_type": "code",
   "execution_count": 6,
   "metadata": {
    "tags": []
   },
   "outputs": [
    {
     "name": "stdout",
     "output_type": "stream",
     "text": [
      "(9, 9)\n"
     ]
    }
   ],
   "source": [
    "simple_model = np.load('simple_model.npy')\n",
    "print(simple_model.shape)\n",
    "simple_modelRDM = ModelFixed('Simple RDM', upper_tri(simple_model))"
   ]
  },
  {
   "cell_type": "code",
   "execution_count": 7,
   "metadata": {
    "tags": []
   },
   "outputs": [
    {
     "name": "stdout",
     "output_type": "stream",
     "text": [
      "{'Segment': ['T3', 'T5', 'T7', 'T9', 'T11', 'L1', 'L3', 'L5', 'S1']}\n"
     ]
    }
   ],
   "source": [
    "pred = simple_modelRDM.predict() # returns a numpy vectorized format\n",
    "pred_rdm = simple_modelRDM.predict_rdm() # returns a RDMs object\n",
    "des_segments = {'Segment': (['T3', 'T5', 'T7', 'T9', 'T11', 'L1', 'L3', 'L5', 'S1'])}\n",
    "pred_rdm.pattern_descriptors = des_segments\n",
    "print(pred_rdm.pattern_descriptors)"
   ]
  },
  {
   "cell_type": "code",
   "execution_count": 8,
   "metadata": {
    "tags": []
   },
   "outputs": [
    {
     "data": {
      "image/png": "[encoded data removed]",
      "text/plain": [
       "<Figure size 1080x360 with 2 Axes>"
      ]
     },
     "metadata": {
      "needs_background": "light"
     },
     "output_type": "display_data"
    }
   ],
   "source": [
    "#show rdm\n",
    "pred_rdm.dissimilarity_measure = \" Dissimilarity\"\n",
    "rsa.vis.show_rdm(pred_rdm, show_colorbar='panel', rdm_descriptor='Simple Model', pattern_descriptor='Segment', figsize=(15,5))\n",
    "plt.show();\n",
    "None"
   ]
  },
  {
   "cell_type": "markdown",
   "metadata": {},
   "source": [
    "### Segmental Model"
   ]
  },
  {
   "cell_type": "code",
   "execution_count": 9,
   "metadata": {
    "tags": []
   },
   "outputs": [
    {
     "data": {
      "text/html": [
       "<div>\n",
       "<style scoped>\n",
       "    .dataframe tbody tr th:only-of-type {\n",
       "        vertical-align: middle;\n",
       "    }\n",
       "\n",
       "    .dataframe tbody tr th {\n",
       "        vertical-align: top;\n",
       "    }\n",
       "\n",
       "    .dataframe thead th {\n",
       "        text-align: right;\n",
       "    }\n",
       "</style>\n",
       "<table border=\"1\" class=\"dataframe\">\n",
       "  <thead>\n",
       "    <tr style=\"text-align: right;\">\n",
       "      <th></th>\n",
       "      <th>T3</th>\n",
       "      <th>T5</th>\n",
       "      <th>T7</th>\n",
       "      <th>T9</th>\n",
       "      <th>T11</th>\n",
       "      <th>L1</th>\n",
       "      <th>L3</th>\n",
       "      <th>L5</th>\n",
       "      <th>S1</th>\n",
       "    </tr>\n",
       "  </thead>\n",
       "  <tbody>\n",
       "    <tr>\n",
       "      <th>T3</th>\n",
       "      <td>0.00</td>\n",
       "      <td>0.10</td>\n",
       "      <td>0.20</td>\n",
       "      <td>0.30</td>\n",
       "      <td>0.40</td>\n",
       "      <td>0.50</td>\n",
       "      <td>0.60</td>\n",
       "      <td>0.70</td>\n",
       "      <td>0.75</td>\n",
       "    </tr>\n",
       "    <tr>\n",
       "      <th>T5</th>\n",
       "      <td>0.10</td>\n",
       "      <td>0.00</td>\n",
       "      <td>0.10</td>\n",
       "      <td>0.20</td>\n",
       "      <td>0.30</td>\n",
       "      <td>0.40</td>\n",
       "      <td>0.50</td>\n",
       "      <td>0.60</td>\n",
       "      <td>0.65</td>\n",
       "    </tr>\n",
       "    <tr>\n",
       "      <th>T7</th>\n",
       "      <td>0.20</td>\n",
       "      <td>0.10</td>\n",
       "      <td>0.00</td>\n",
       "      <td>0.10</td>\n",
       "      <td>0.20</td>\n",
       "      <td>0.30</td>\n",
       "      <td>0.40</td>\n",
       "      <td>0.50</td>\n",
       "      <td>0.55</td>\n",
       "    </tr>\n",
       "    <tr>\n",
       "      <th>T9</th>\n",
       "      <td>0.30</td>\n",
       "      <td>0.20</td>\n",
       "      <td>0.10</td>\n",
       "      <td>0.00</td>\n",
       "      <td>0.10</td>\n",
       "      <td>0.20</td>\n",
       "      <td>0.30</td>\n",
       "      <td>0.40</td>\n",
       "      <td>0.45</td>\n",
       "    </tr>\n",
       "    <tr>\n",
       "      <th>T11</th>\n",
       "      <td>0.40</td>\n",
       "      <td>0.30</td>\n",
       "      <td>0.20</td>\n",
       "      <td>0.10</td>\n",
       "      <td>0.00</td>\n",
       "      <td>0.10</td>\n",
       "      <td>0.20</td>\n",
       "      <td>0.30</td>\n",
       "      <td>0.35</td>\n",
       "    </tr>\n",
       "    <tr>\n",
       "      <th>L1</th>\n",
       "      <td>0.50</td>\n",
       "      <td>0.40</td>\n",
       "      <td>0.30</td>\n",
       "      <td>0.20</td>\n",
       "      <td>0.10</td>\n",
       "      <td>0.00</td>\n",
       "      <td>0.10</td>\n",
       "      <td>0.20</td>\n",
       "      <td>0.25</td>\n",
       "    </tr>\n",
       "    <tr>\n",
       "      <th>L3</th>\n",
       "      <td>0.60</td>\n",
       "      <td>0.50</td>\n",
       "      <td>0.40</td>\n",
       "      <td>0.30</td>\n",
       "      <td>0.20</td>\n",
       "      <td>0.10</td>\n",
       "      <td>0.00</td>\n",
       "      <td>0.10</td>\n",
       "      <td>0.15</td>\n",
       "    </tr>\n",
       "    <tr>\n",
       "      <th>L5</th>\n",
       "      <td>0.70</td>\n",
       "      <td>0.60</td>\n",
       "      <td>0.50</td>\n",
       "      <td>0.40</td>\n",
       "      <td>0.30</td>\n",
       "      <td>0.20</td>\n",
       "      <td>0.10</td>\n",
       "      <td>0.00</td>\n",
       "      <td>0.05</td>\n",
       "    </tr>\n",
       "    <tr>\n",
       "      <th>S1</th>\n",
       "      <td>0.75</td>\n",
       "      <td>0.65</td>\n",
       "      <td>0.55</td>\n",
       "      <td>0.45</td>\n",
       "      <td>0.35</td>\n",
       "      <td>0.25</td>\n",
       "      <td>0.15</td>\n",
       "      <td>0.05</td>\n",
       "      <td>0.00</td>\n",
       "    </tr>\n",
       "  </tbody>\n",
       "</table>\n",
       "</div>"
      ],
      "text/plain": [
       "       T3    T5    T7    T9   T11    L1    L3    L5    S1\n",
       "T3   0.00  0.10  0.20  0.30  0.40  0.50  0.60  0.70  0.75\n",
       "T5   0.10  0.00  0.10  0.20  0.30  0.40  0.50  0.60  0.65\n",
       "T7   0.20  0.10  0.00  0.10  0.20  0.30  0.40  0.50  0.55\n",
       "T9   0.30  0.20  0.10  0.00  0.10  0.20  0.30  0.40  0.45\n",
       "T11  0.40  0.30  0.20  0.10  0.00  0.10  0.20  0.30  0.35\n",
       "L1   0.50  0.40  0.30  0.20  0.10  0.00  0.10  0.20  0.25\n",
       "L3   0.60  0.50  0.40  0.30  0.20  0.10  0.00  0.10  0.15\n",
       "L5   0.70  0.60  0.50  0.40  0.30  0.20  0.10  0.00  0.05\n",
       "S1   0.75  0.65  0.55  0.45  0.35  0.25  0.15  0.05  0.00"
      ]
     },
     "execution_count": 9,
     "metadata": {},
     "output_type": "execute_result"
    }
   ],
   "source": [
    "d_l = {'T3': [0.0,0.1,0.2,0.3,0.4,0.5,0.6,0.7,0.75], 'T5': [0.1,0.0,0.1,0.2,0.3,0.4,0.5,0.6,0.65], 'T7': [0.2,0.1,0.0,0.1,0.2,0.3,0.4,0.5,0.55], 'T9': [0.3,0.2,0.1,0.0,0.1,0.2,0.3,0.4,0.45],\n",
    "     'T11': [0.4,0.3,0.2,0.1,0.0,0.1,0.2,0.3,0.35], 'L1': [0.5,0.4,0.3,0.2,0.1,0.0,0.1,0.2,0.25], 'L3': [0.6,0.5,0.4,0.3,0.2,0.1,0.0,0.1,0.15] , 'L5': [0.7,0.6,0.5,0.4,0.3,0.2,0.1,0.0,0.05],\n",
    "     'S1': [0.75,0.65,0.55,0.45,0.35,0.25,0.15,0.05,0.0]\n",
    "    }\n",
    "\n",
    "df_l = pd.DataFrame(data=d_l, index = ['T3', 'T5', 'T7', 'T9', 'T11', 'L1', 'L3', 'L5', 'S1'])\n",
    "df_l.head(9)"
   ]
  },
  {
   "cell_type": "code",
   "execution_count": 10,
   "metadata": {
    "tags": []
   },
   "outputs": [
    {
     "name": "stdout",
     "output_type": "stream",
     "text": [
      "(9, 9)\n"
     ]
    }
   ],
   "source": [
    "df_segmental_np = df_l.to_numpy()\n",
    "np.save('linear_model.npy', df_segmental_np)\n",
    "linear_model = np.load('linear_model.npy')\n",
    "print(linear_model.shape)\n",
    "linear_modelRDM = ModelFixed('Linear RDM', upper_tri(linear_model))"
   ]
  },
  {
   "cell_type": "code",
   "execution_count": 11,
   "metadata": {
    "tags": []
   },
   "outputs": [
    {
     "name": "stdout",
     "output_type": "stream",
     "text": [
      "{'Segment': ['T3', 'T5', 'T7', 'T9', 'T11', 'L1', 'L3', 'L5', 'S1'], 'index': [0, 1, 2, 3, 4, 5, 6, 7, 8]}\n"
     ]
    }
   ],
   "source": [
    "pred_linear = linear_modelRDM.predict() # returns a numpy vectorized format\n",
    "pred_rdm_linear = linear_modelRDM.predict_rdm() # returns a RDMs object\n",
    "\n",
    "pred_rdm_linear.pattern_descriptors = des_segments\n",
    "print(pred_rdm_linear.pattern_descriptors)"
   ]
  },
  {
   "cell_type": "code",
   "execution_count": 12,
   "metadata": {
    "tags": []
   },
   "outputs": [
    {
     "data": {
      "image/png": "[encoded data removed]",
      "text/plain": [
       "<Figure size 1080x360 with 2 Axes>"
      ]
     },
     "metadata": {
      "needs_background": "light"
     },
     "output_type": "display_data"
    }
   ],
   "source": [
    "pred_rdm_linear.dissimilarity_measure = \" Dissimilarity\"\n",
    "rsa.vis.show_rdm(pred_rdm_linear, show_colorbar ='panel', rdm_descriptor='Segmental Model', pattern_descriptor='Segment', figsize=(15,5))\n",
    "plt.show();\n",
    "None"
   ]
  },
  {
   "cell_type": "markdown",
   "metadata": {},
   "source": [
    "### Random Model"
   ]
  },
  {
   "cell_type": "code",
   "execution_count": 13,
   "metadata": {
    "tags": []
   },
   "outputs": [
    {
     "data": {
      "text/html": [
       "<div>\n",
       "<style scoped>\n",
       "    .dataframe tbody tr th:only-of-type {\n",
       "        vertical-align: middle;\n",
       "    }\n",
       "\n",
       "    .dataframe tbody tr th {\n",
       "        vertical-align: top;\n",
       "    }\n",
       "\n",
       "    .dataframe thead th {\n",
       "        text-align: right;\n",
       "    }\n",
       "</style>\n",
       "<table border=\"1\" class=\"dataframe\">\n",
       "  <thead>\n",
       "    <tr style=\"text-align: right;\">\n",
       "      <th></th>\n",
       "      <th>T3</th>\n",
       "      <th>T5</th>\n",
       "      <th>T7</th>\n",
       "      <th>T9</th>\n",
       "      <th>T11</th>\n",
       "      <th>L1</th>\n",
       "      <th>L3</th>\n",
       "      <th>L5</th>\n",
       "      <th>S1</th>\n",
       "    </tr>\n",
       "  </thead>\n",
       "  <tbody>\n",
       "    <tr>\n",
       "      <th>T3</th>\n",
       "      <td>0.0</td>\n",
       "      <td>0.0</td>\n",
       "      <td>0.9</td>\n",
       "      <td>0.1</td>\n",
       "      <td>0.1</td>\n",
       "      <td>0.9</td>\n",
       "      <td>0.4</td>\n",
       "      <td>0.2</td>\n",
       "      <td>0.9</td>\n",
       "    </tr>\n",
       "    <tr>\n",
       "      <th>T5</th>\n",
       "      <td>0.0</td>\n",
       "      <td>0.0</td>\n",
       "      <td>0.5</td>\n",
       "      <td>0.0</td>\n",
       "      <td>0.2</td>\n",
       "      <td>0.1</td>\n",
       "      <td>0.9</td>\n",
       "      <td>0.1</td>\n",
       "      <td>0.5</td>\n",
       "    </tr>\n",
       "    <tr>\n",
       "      <th>T7</th>\n",
       "      <td>0.9</td>\n",
       "      <td>0.5</td>\n",
       "      <td>0.0</td>\n",
       "      <td>0.4</td>\n",
       "      <td>0.3</td>\n",
       "      <td>0.5</td>\n",
       "      <td>0.1</td>\n",
       "      <td>0.9</td>\n",
       "      <td>0.4</td>\n",
       "    </tr>\n",
       "    <tr>\n",
       "      <th>T9</th>\n",
       "      <td>0.1</td>\n",
       "      <td>0.0</td>\n",
       "      <td>0.4</td>\n",
       "      <td>0.0</td>\n",
       "      <td>0.4</td>\n",
       "      <td>0.7</td>\n",
       "      <td>0.6</td>\n",
       "      <td>0.4</td>\n",
       "      <td>0.6</td>\n",
       "    </tr>\n",
       "    <tr>\n",
       "      <th>T11</th>\n",
       "      <td>0.1</td>\n",
       "      <td>0.2</td>\n",
       "      <td>0.3</td>\n",
       "      <td>0.4</td>\n",
       "      <td>0.0</td>\n",
       "      <td>0.0</td>\n",
       "      <td>0.5</td>\n",
       "      <td>0.5</td>\n",
       "      <td>0.1</td>\n",
       "    </tr>\n",
       "    <tr>\n",
       "      <th>L1</th>\n",
       "      <td>0.9</td>\n",
       "      <td>0.1</td>\n",
       "      <td>0.5</td>\n",
       "      <td>0.7</td>\n",
       "      <td>0.0</td>\n",
       "      <td>0.0</td>\n",
       "      <td>0.7</td>\n",
       "      <td>0.0</td>\n",
       "      <td>0.2</td>\n",
       "    </tr>\n",
       "    <tr>\n",
       "      <th>L3</th>\n",
       "      <td>0.4</td>\n",
       "      <td>0.9</td>\n",
       "      <td>0.1</td>\n",
       "      <td>0.6</td>\n",
       "      <td>0.5</td>\n",
       "      <td>0.7</td>\n",
       "      <td>0.0</td>\n",
       "      <td>0.7</td>\n",
       "      <td>0.7</td>\n",
       "    </tr>\n",
       "    <tr>\n",
       "      <th>L5</th>\n",
       "      <td>0.2</td>\n",
       "      <td>0.1</td>\n",
       "      <td>0.9</td>\n",
       "      <td>0.4</td>\n",
       "      <td>0.5</td>\n",
       "      <td>0.0</td>\n",
       "      <td>0.7</td>\n",
       "      <td>0.0</td>\n",
       "      <td>0.0</td>\n",
       "    </tr>\n",
       "    <tr>\n",
       "      <th>S1</th>\n",
       "      <td>0.9</td>\n",
       "      <td>0.5</td>\n",
       "      <td>0.4</td>\n",
       "      <td>0.6</td>\n",
       "      <td>0.1</td>\n",
       "      <td>0.2</td>\n",
       "      <td>0.7</td>\n",
       "      <td>0.0</td>\n",
       "      <td>0.0</td>\n",
       "    </tr>\n",
       "  </tbody>\n",
       "</table>\n",
       "</div>"
      ],
      "text/plain": [
       "      T3   T5   T7   T9  T11   L1   L3   L5   S1\n",
       "T3   0.0  0.0  0.9  0.1  0.1  0.9  0.4  0.2  0.9\n",
       "T5   0.0  0.0  0.5  0.0  0.2  0.1  0.9  0.1  0.5\n",
       "T7   0.9  0.5  0.0  0.4  0.3  0.5  0.1  0.9  0.4\n",
       "T9   0.1  0.0  0.4  0.0  0.4  0.7  0.6  0.4  0.6\n",
       "T11  0.1  0.2  0.3  0.4  0.0  0.0  0.5  0.5  0.1\n",
       "L1   0.9  0.1  0.5  0.7  0.0  0.0  0.7  0.0  0.2\n",
       "L3   0.4  0.9  0.1  0.6  0.5  0.7  0.0  0.7  0.7\n",
       "L5   0.2  0.1  0.9  0.4  0.5  0.0  0.7  0.0  0.0\n",
       "S1   0.9  0.5  0.4  0.6  0.1  0.2  0.7  0.0  0.0"
      ]
     },
     "execution_count": 13,
     "metadata": {},
     "output_type": "execute_result"
    }
   ],
   "source": [
    "d_random = {'T3': [0.0,0.0,0.9,0.1,0.1,0.9,0.4,0.2,0.9], 'T5': [0.0,0.0,0.5,0.0,0.2,0.1,0.9,0.1,0.5], 'T7': [0.9,0.5,0.0,0.4,0.3,0.5,0.1,0.9,0.4], 'T9': [0.1,0.0,0.4,0.0,0.4,0.7,0.6,0.4,0.6],\n",
    "     'T11': [0.1,0.2,0.3,0.4,0.0,0.0,0.5,0.5,0.1], 'L1': [0.9,0.1,0.5,0.7,0.0,0.0,0.7,0.0,0.2], 'L3': [0.4,0.9,0.1,0.6,0.5,0.7,0.0,0.7,0.7] , 'L5': [0.2,0.1,0.9,0.4,0.5,0.0,0.7,0.0,0.0],\n",
    "     'S1': [0.9,0.5,0.4,0.6,0.1,0.2,0.7,0.0,0.0]\n",
    "    }\n",
    "\n",
    "df_random = pd.DataFrame(data=d_random, index = ['T3', 'T5', 'T7', 'T9', 'T11', 'L1', 'L3', 'L5', 'S1'])\n",
    "df_random.head(9)"
   ]
  },
  {
   "cell_type": "code",
   "execution_count": 14,
   "metadata": {
    "tags": []
   },
   "outputs": [],
   "source": [
    "df_random_np = df_random.to_numpy()\n",
    "np.save('random_model.npy', df_random_np)\n",
    "random_model = np.load('random_model.npy')\n",
    "random_model_RDM = ModelFixed('Random RDM', upper_tri(random_model))"
   ]
  },
  {
   "cell_type": "code",
   "execution_count": 15,
   "metadata": {
    "tags": []
   },
   "outputs": [
    {
     "data": {
      "image/png": "[encoded data removed]",
      "text/plain": [
       "<Figure size 1080x360 with 2 Axes>"
      ]
     },
     "metadata": {
      "needs_background": "light"
     },
     "output_type": "display_data"
    }
   ],
   "source": [
    "pred_random = random_model_RDM.predict() # returns a numpy vectorized format\n",
    "pred_random_rdm = random_model_RDM.predict_rdm() # returns a RDMs object\n",
    "\n",
    "pred_random_rdm.pattern_descriptors = des_segments\n",
    "\n",
    "pred_random_rdm.dissimilarity_measure = \" Dissimilarity\"\n",
    "rsa.vis.show_rdm(pred_random_rdm, show_colorbar='panel', rdm_descriptor='Random Model', pattern_descriptor='Segment', figsize=(15,5))\n",
    "plt.show();\n",
    "None"
   ]
  }
 ],
 "metadata": {
  "kernelspec": {
   "display_name": "Python 3 (ipykernel)",
   "language": "python",
   "name": "python3"
  },
  "language_info": {
   "codemirror_mode": {
    "name": "ipython",
    "version": 3
   },
   "file_extension": ".py",
   "mimetype": "text/x-python",
   "name": "python",
   "nbconvert_exporter": "python",
   "pygments_lexer": "ipython3",
   "version": "3.9.7"
  }
 },
 "nbformat": 4,
 "nbformat_minor": 4
}
